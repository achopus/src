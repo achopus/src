{
 "cells": [
  {
   "cell_type": "code",
   "execution_count": null,
   "metadata": {},
   "outputs": [],
   "source": [
    "import os\n",
    "\n",
    "import torch\n",
    "from utils.net import get_resnet50\n",
    "from utils.dataset import get_dataloaders\n",
    "from utils.loop import loop\n",
    "from utils.config import Config\n",
    "from pathlib import Path"
   ]
  },
  {
   "cell_type": "code",
   "execution_count": null,
   "metadata": {},
   "outputs": [],
   "source": [
    "def make_experiment(folder_real: str, folders_fake: list[str] = None, folders_both: list[str] = None, folders_train: list[str] = None, folders_valid: list[str] = None, base_path: str = None):\n",
    "    learning_rate = 1e-4\n",
    "    batch_size = 64\n",
    "    n_epochs = 5\n",
    "    train_loader, valid_loader, test_loader = get_dataloaders(folder_real, folders_fake, folders_both, folders_train, folders_valid, batch_size)\n",
    "\n",
    "    model = get_resnet50()\n",
    "    model_weights = \"ResNet50_Weights.IMAGENET1K_V2\"\n",
    "\n",
    "    optimizer = torch.optim.Adam(model.parameters(), lr=learning_rate)\n",
    "    loss_function = torch.nn.functional.binary_cross_entropy_with_logits\n",
    "\n",
    "    T = (\"T_\" + \"_\".join([Path(f).stem for f in folders_train])) if folders_train else \"\"\n",
    "    V = \"V_\" + \"_\".join([Path(f).stem for f in folders_valid]) if folders_valid else \"\"\n",
    "    B = \"B_\" + \"_\".join([Path(f).stem for f in folders_both]) if folders_both else \"\"\n",
    "    name = f\"{T}_{V}_{B}\"\n",
    "\n",
    "    save_path = os.path.join(base_path, name)\n",
    "    if not os.path.exists(save_path):\n",
    "        os.mkdir(save_path)\n",
    "\n",
    "    C = {\n",
    "        \"name\": name,\n",
    "        \"learning_rate\": learning_rate,\n",
    "        \"n_epochs\": n_epochs,\n",
    "        \"batch_size\": batch_size,\n",
    "        \"folder_real\": folder_real,\n",
    "        \"folders_test\": folders_valid,\n",
    "        \"folders_both\": folders_both,\n",
    "        \"folders_train\": folders_train,\n",
    "        \"folders_valid\": folders_valid,\n",
    "        \"model_type\": model._get_name(),\n",
    "        \"model_weights\": model_weights,\n",
    "        \"loss_function\": loss_function,\n",
    "        \"optimizer\": optimizer.__class__\n",
    "    }\n",
    "\n",
    "\n",
    "    config = Config(C)\n",
    "    config.save(os.path.join(save_path, name))\n",
    "    loop(model, optimizer, loss_function, save_path, train_loader, valid_loader, test_loader, n_epochs)"
   ]
  },
  {
   "cell_type": "markdown",
   "metadata": {},
   "source": [
    "## Leave-one-out"
   ]
  },
  {
   "cell_type": "code",
   "execution_count": null,
   "metadata": {},
   "outputs": [],
   "source": [
    "folder_real = \"faces/real/\"\n",
    "fake_base = \"faces/fake/\"\n",
    "folders_fake = [os.path.join(fake_base, f) for f in os.listdir(fake_base)]\n",
    "base_path = \"experiments/leave_one_out/\"\n",
    "for i in range(0, folders_fake.__len__()):\n",
    "    folders_train = folders_fake.copy()\n",
    "    folders_valid = [folders_train.pop(i)]\n",
    "    print(folders_train, folders_valid)\n",
    "    make_experiment(folder_real=folder_real, folders_fake=folders_fake, folders_train=folders_train, folders_valid=folders_valid, base_path=base_path)\n",
    "    "
   ]
  },
  {
   "cell_type": "markdown",
   "metadata": {},
   "source": [
    "## Same train and valid"
   ]
  },
  {
   "cell_type": "code",
   "execution_count": null,
   "metadata": {},
   "outputs": [],
   "source": [
    "folder_real = \"faces/real/\"\n",
    "folders_fake = os.listdir(\"faces/fake/\")\n",
    "base_path = \"experiments/other/\"\n",
    "for f in folders_fake:\n",
    "    if \"FaceSwap\" in f: continue\n",
    "    folders_both = [os.path.join(\"faces/fake/\", f)]\n",
    "    ff = folders_both\n",
    "    print(f)\n",
    "    make_experiment(folder_real=folder_real, folders_fake=ff, folders_both=folders_both, base_path=base_path)"
   ]
  }
 ],
 "metadata": {
  "kernelspec": {
   "display_name": "Python 3",
   "language": "python",
   "name": "python3"
  },
  "language_info": {
   "codemirror_mode": {
    "name": "ipython",
    "version": 3
   },
   "file_extension": ".py",
   "mimetype": "text/x-python",
   "name": "python",
   "nbconvert_exporter": "python",
   "pygments_lexer": "ipython3",
   "version": "3.11.4"
  }
 },
 "nbformat": 4,
 "nbformat_minor": 2
}
